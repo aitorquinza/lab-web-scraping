{
 "cells": [
  {
   "cell_type": "markdown",
   "metadata": {},
   "source": [
    "# Web Scraping Lab\n",
    "\n",
    "You will find in this notebook some scrapy exercises to practise your scraping skills.\n",
    "\n",
    "**Tips:**\n",
    "\n",
    "- Check the response status code for each request to ensure you have obtained the intended content.\n",
    "- Print the response text in each request to understand the kind of info you are getting and its format.\n",
    "- Check for patterns in the response text to extract the data/info requested in each question.\n",
    "- Visit the urls below and take a look at their source code through Chrome DevTools. You'll need to identify the html tags, special class names, etc used in the html content you are expected to extract.\n",
    "\n",
    "**Resources**:\n",
    "- [Requests library](http://docs.python-requests.org/en/master/#the-user-guide)\n",
    "- [Beautiful Soup Doc](https://www.crummy.com/software/BeautifulSoup/bs4/doc/)\n",
    "- [Urllib](https://docs.python.org/3/library/urllib.html#module-urllib)\n",
    "- [re lib](https://docs.python.org/3/library/re.html)\n",
    "- [lxml lib](https://lxml.de/)\n",
    "- [Scrapy](https://scrapy.org/)\n",
    "- [List of HTTP status codes](https://en.wikipedia.org/wiki/List_of_HTTP_status_codes)\n",
    "- [HTML basics](http://www.simplehtmlguide.com/cheatsheet.php)\n",
    "- [CSS basics](https://www.cssbasics.com/#page_start)"
   ]
  },
  {
   "cell_type": "markdown",
   "metadata": {},
   "source": [
    "#### Below are the libraries and modules you may need. `requests`,  `BeautifulSoup` and `pandas` are already imported for you. If you prefer to use additional libraries feel free to do it."
   ]
  },
  {
   "cell_type": "code",
   "execution_count": 1,
   "metadata": {},
   "outputs": [],
   "source": [
    "import requests\n",
    "from bs4 import BeautifulSoup\n",
    "import pandas as pd"
   ]
  },
  {
   "cell_type": "markdown",
   "metadata": {},
   "source": [
    "#### Download, parse (using BeautifulSoup), and print the content from the Trending Developers page from GitHub:"
   ]
  },
  {
   "cell_type": "code",
   "execution_count": 3,
   "metadata": {},
   "outputs": [],
   "source": [
    "# This is the url you will scrape in this exercise\n",
    "url = 'https://github.com/trending/developers'"
   ]
  },
  {
   "cell_type": "code",
   "execution_count": 4,
   "metadata": {},
   "outputs": [],
   "source": [
    "# your code here\n",
    "req = requests.get(url)\n",
    "html = BeautifulSoup(req.text, 'html.parser')\n",
    "# html"
   ]
  },
  {
   "cell_type": "markdown",
   "metadata": {},
   "source": [
    "#### Display the names of the trending developers retrieved in the previous step.\n",
    "\n",
    "Your output should be a Python list of developer names. Each name should not contain any html tag.\n",
    "\n",
    "**Instructions:**\n",
    "\n",
    "1. Find out the html tag and class names used for the developer names. You can achieve this using Chrome DevTools.\n",
    "\n",
    "1. Use BeautifulSoup to extract all the html elements that contain the developer names.\n",
    "\n",
    "1. Use string manipulation techniques to replace whitespaces and linebreaks (i.e. `\\n`) in the *text* of each html element. Use a list to store the clean names.\n",
    "\n",
    "1. Print the list of names.\n",
    "\n",
    "Your output should look like below:\n",
    "\n",
    "```\n",
    "['trimstray (@trimstray)',\n",
    " 'joewalnes (JoeWalnes)',\n",
    " 'charlax (Charles-AxelDein)',\n",
    " 'ForrestKnight (ForrestKnight)',\n",
    " 'revery-ui (revery-ui)',\n",
    " 'alibaba (Alibaba)',\n",
    " 'Microsoft (Microsoft)',\n",
    " 'github (GitHub)',\n",
    " 'facebook (Facebook)',\n",
    " 'boazsegev (Bo)',\n",
    " 'google (Google)',\n",
    " 'cloudfetch',\n",
    " 'sindresorhus (SindreSorhus)',\n",
    " 'tensorflow',\n",
    " 'apache (TheApacheSoftwareFoundation)',\n",
    " 'DevonCrawford (DevonCrawford)',\n",
    " 'ARMmbed (ArmMbed)',\n",
    " 'vuejs (vuejs)',\n",
    " 'fastai (fast.ai)',\n",
    " 'QiShaoXuan (Qi)',\n",
    " 'joelparkerhenderson (JoelParkerHenderson)',\n",
    " 'torvalds (LinusTorvalds)',\n",
    " 'CyC2018',\n",
    " 'komeiji-satori (神楽坂覚々)',\n",
    " 'script-8']\n",
    " ```"
   ]
  },
  {
   "cell_type": "code",
   "execution_count": 6,
   "metadata": {},
   "outputs": [],
   "source": [
    "# your code here\n",
    "findDevelopers = html.find_all('div', class_= 'col-md-6')\n",
    "# findDevelopers"
   ]
  },
  {
   "cell_type": "code",
   "execution_count": 13,
   "metadata": {},
   "outputs": [
    {
     "data": {
      "text/plain": [
       "[['Hang', 'Zhang', 'zhanghang1989'],\n",
       " ['Popular', 'repo', 'PyTorch-Encoding', 'A', 'PyTorch', 'CV', 'Toolkit'],\n",
       " ['Hopsoft', 'hopsoft'],\n",
       " ['Popular',\n",
       "  'repo',\n",
       "  'docker-graphite-statsd',\n",
       "  'Docker',\n",
       "  'image',\n",
       "  'for',\n",
       "  'Graphite',\n",
       "  '&',\n",
       "  'Statsd'],\n",
       " ['Kamil', 'Kisiela', 'kamilkisiela'],\n",
       " ['Popular',\n",
       "  'repo',\n",
       "  'apollo-angular',\n",
       "  'A',\n",
       "  'fully-featured,',\n",
       "  'production',\n",
       "  'ready',\n",
       "  'caching',\n",
       "  'GraphQL',\n",
       "  'client',\n",
       "  'for',\n",
       "  'Angular',\n",
       "  'and',\n",
       "  'every',\n",
       "  'GraphQL',\n",
       "  'server',\n",
       "  '🎁'],\n",
       " ['Felix', 'Angelov', 'felangel'],\n",
       " ['Popular',\n",
       "  'repo',\n",
       "  'bloc',\n",
       "  'A',\n",
       "  'predictable',\n",
       "  'state',\n",
       "  'management',\n",
       "  'library',\n",
       "  'that',\n",
       "  'helps',\n",
       "  'implement',\n",
       "  'the',\n",
       "  'BLoC',\n",
       "  'design',\n",
       "  'pattern'],\n",
       " ['Joe', 'Block', 'unixorn'],\n",
       " ['Popular',\n",
       "  'repo',\n",
       "  'awesome-zsh-plugins',\n",
       "  'A',\n",
       "  'collection',\n",
       "  'of',\n",
       "  'ZSH',\n",
       "  'frameworks,',\n",
       "  'plugins,',\n",
       "  'themes',\n",
       "  'and',\n",
       "  'tutorials.'],\n",
       " ['Arvid', 'Norberg', 'arvidn'],\n",
       " ['Popular',\n",
       "  'repo',\n",
       "  'libtorrent',\n",
       "  'an',\n",
       "  'efficient',\n",
       "  'feature',\n",
       "  'complete',\n",
       "  'C++',\n",
       "  'bittorrent',\n",
       "  'implementation'],\n",
       " ['Barry', 'vd.', 'Heuvel', 'barryvdh'],\n",
       " ['Popular',\n",
       "  'repo',\n",
       "  'laravel-debugbar',\n",
       "  'Laravel',\n",
       "  'Debugbar',\n",
       "  '(Integrates',\n",
       "  'PHP',\n",
       "  'Debug',\n",
       "  'Bar)'],\n",
       " ['Matthieu', 'Bacconnier', 'Neamar'],\n",
       " ['Popular',\n",
       "  'repo',\n",
       "  'KISS',\n",
       "  'Lightning',\n",
       "  'fast,',\n",
       "  'open-source,',\n",
       "  '<',\n",
       "  '200kb',\n",
       "  'Android',\n",
       "  'launcher'],\n",
       " ['Aaron', 'Renner', 'aaronrenner'],\n",
       " ['Popular',\n",
       "  'repo',\n",
       "  'phx_gen_auth',\n",
       "  'An',\n",
       "  'authentication',\n",
       "  'system',\n",
       "  'generator',\n",
       "  'for',\n",
       "  'Phoenix',\n",
       "  '1.5+',\n",
       "  'applications.'],\n",
       " ['Rico', 'Sta.', 'Cruz', 'rstacruz'],\n",
       " ['Popular',\n",
       "  'repo',\n",
       "  'nprogress',\n",
       "  'For',\n",
       "  'slim',\n",
       "  'progress',\n",
       "  'bars',\n",
       "  'like',\n",
       "  'on',\n",
       "  'YouTube,',\n",
       "  'Medium,',\n",
       "  'etc'],\n",
       " ['Kamran', 'Ahmed', 'kamranahmedse'],\n",
       " ['Popular',\n",
       "  'repo',\n",
       "  'developer-roadmap',\n",
       "  'Roadmap',\n",
       "  'to',\n",
       "  'becoming',\n",
       "  'a',\n",
       "  'web',\n",
       "  'developer',\n",
       "  'in',\n",
       "  '2020'],\n",
       " ['Sebastián', 'Ramírez', 'tiangolo'],\n",
       " ['Popular',\n",
       "  'repo',\n",
       "  'fastapi',\n",
       "  'FastAPI',\n",
       "  'framework,',\n",
       "  'high',\n",
       "  'performance,',\n",
       "  'easy',\n",
       "  'to',\n",
       "  'learn,',\n",
       "  'fast',\n",
       "  'to',\n",
       "  'code,',\n",
       "  'ready',\n",
       "  'for',\n",
       "  'production'],\n",
       " ['Luke', 'Edwards', 'lukeed'],\n",
       " ['Popular',\n",
       "  'repo',\n",
       "  'polka',\n",
       "  'A',\n",
       "  'micro',\n",
       "  'web',\n",
       "  'server',\n",
       "  'so',\n",
       "  'fast,',\n",
       "  \"it'll\",\n",
       "  'make',\n",
       "  'you',\n",
       "  'dance!',\n",
       "  '👯'],\n",
       " ['kazuya', 'kawaguchi', 'kazupon'],\n",
       " ['Popular',\n",
       "  'repo',\n",
       "  'vue-i18n',\n",
       "  '🌐',\n",
       "  'Internationalization',\n",
       "  'plugin',\n",
       "  'for',\n",
       "  'Vue.js'],\n",
       " ['Ian', 'Sutherland', 'iansu'],\n",
       " ['Popular', 'repo', 'react-in-a-box', \"It's\", 'React,', 'in', 'a', 'box.'],\n",
       " ['Vítor', 'Galvão', 'vitorgalvao'],\n",
       " ['Popular',\n",
       "  'repo',\n",
       "  'custom-alfred-iterm-scripts',\n",
       "  'AppleScript',\n",
       "  'for',\n",
       "  'iTerm2',\n",
       "  'Alfred',\n",
       "  'integration.'],\n",
       " ['Greg', 'Bergé', 'gregberge'],\n",
       " ['Popular',\n",
       "  'repo',\n",
       "  'svgr',\n",
       "  'Transform',\n",
       "  'SVGs',\n",
       "  'into',\n",
       "  'React',\n",
       "  'components',\n",
       "  '🦁'],\n",
       " ['Paul', 'Irish', 'paulirish'],\n",
       " ['Popular',\n",
       "  'repo',\n",
       "  'dotfiles',\n",
       "  \"paul's\",\n",
       "  'shell,',\n",
       "  'git,',\n",
       "  'etc',\n",
       "  'config',\n",
       "  'files.',\n",
       "  'also',\n",
       "  'homebrew,',\n",
       "  'migration',\n",
       "  'setup.',\n",
       "  'good',\n",
       "  'stuff.'],\n",
       " ['Daniel', 'Nephin', 'dnephin'],\n",
       " ['Popular',\n",
       "  'repo',\n",
       "  'dobi',\n",
       "  'A',\n",
       "  'build',\n",
       "  'automation',\n",
       "  'tool',\n",
       "  'for',\n",
       "  'Docker',\n",
       "  'applications'],\n",
       " ['Saket', 'Narayan', 'saket'],\n",
       " ['Popular',\n",
       "  'repo',\n",
       "  'InboxRecyclerView',\n",
       "  'Build',\n",
       "  'expandable',\n",
       "  'descendant',\n",
       "  'navigation,',\n",
       "  'inspired',\n",
       "  'by',\n",
       "  'Google',\n",
       "  'Inbox'],\n",
       " ['maliming', 'maliming'],\n",
       " ['Popular', 'repo', 'Abp.GeneralTree'],\n",
       " ['Artem', 'Zakharchenko', 'kettanaito'],\n",
       " ['Popular',\n",
       "  'repo',\n",
       "  'atomic-layout',\n",
       "  'Physical',\n",
       "  'representation',\n",
       "  'of',\n",
       "  'layout',\n",
       "  'composition',\n",
       "  'to',\n",
       "  'create',\n",
       "  'declarative',\n",
       "  'responsive',\n",
       "  'layouts',\n",
       "  'in',\n",
       "  'React.'],\n",
       " ['David', 'Dias', 'thedaviddias'],\n",
       " ['Popular',\n",
       "  'repo',\n",
       "  'Front-End-Checklist',\n",
       "  '🗂',\n",
       "  'The',\n",
       "  'perfect',\n",
       "  'Front-End',\n",
       "  'Checklist',\n",
       "  'for',\n",
       "  'modern',\n",
       "  'websites',\n",
       "  'and',\n",
       "  'meticulous',\n",
       "  'developers'],\n",
       " ['Alex', 'Gaynor', 'alex'],\n",
       " ['Popular',\n",
       "  'repo',\n",
       "  'what-happens-when',\n",
       "  'An',\n",
       "  'attempt',\n",
       "  'to',\n",
       "  'answer',\n",
       "  'the',\n",
       "  'age',\n",
       "  'old',\n",
       "  'interview',\n",
       "  'question',\n",
       "  '\"What',\n",
       "  'happens',\n",
       "  'when',\n",
       "  'you',\n",
       "  'type',\n",
       "  'google.com',\n",
       "  'into',\n",
       "  'your',\n",
       "  'browser',\n",
       "  'and',\n",
       "  'press',\n",
       "  'enter?\"'],\n",
       " ['Jeremy', 'jeremyphilemon'],\n",
       " ['Popular',\n",
       "  'repo',\n",
       "  'covid19india',\n",
       "  'Source',\n",
       "  'code',\n",
       "  'of',\n",
       "  'main',\n",
       "  'website']]"
      ]
     },
     "execution_count": 13,
     "metadata": {},
     "output_type": "execute_result"
    }
   ],
   "source": [
    "\n",
    "trendyDevelopers = [i.getText().split() for i in findDevelopers]\n",
    "\n",
    "trendyDevelopers"
   ]
  },
  {
   "cell_type": "markdown",
   "metadata": {},
   "source": [
    "#### Display the trending Python repositories in GitHub.\n",
    "\n",
    "The steps to solve this problem is similar to the previous one except that you need to find out the repository names instead of developer names."
   ]
  },
  {
   "cell_type": "code",
   "execution_count": null,
   "metadata": {},
   "outputs": [],
   "source": [
    "# This is the url you will scrape in this exercise\n",
    "url = 'https://github.com/trending/python?since=daily'"
   ]
  },
  {
   "cell_type": "code",
   "execution_count": null,
   "metadata": {},
   "outputs": [],
   "source": [
    "# your code here"
   ]
  },
  {
   "cell_type": "markdown",
   "metadata": {},
   "source": [
    "#### Display all the image links from Walt Disney wikipedia page."
   ]
  },
  {
   "cell_type": "code",
   "execution_count": 18,
   "metadata": {},
   "outputs": [],
   "source": [
    "# This is the url you will scrape in this exercise\n",
    "url = 'https://en.wikipedia.org/wiki/Walt_Disney'"
   ]
  },
  {
   "cell_type": "code",
   "execution_count": 26,
   "metadata": {},
   "outputs": [
    {
     "data": {
      "text/plain": [
       "35"
      ]
     },
     "execution_count": 26,
     "metadata": {},
     "output_type": "execute_result"
    }
   ],
   "source": [
    "# your code here\n",
    "req = requests.get(url).content\n",
    "html = BeautifulSoup(req, 'html.parser')\n",
    "imgTag = list(html.find_all(\"img\"))\n",
    "type(imgTag)\n",
    "\n",
    "images = [i.get('src') for i in imgTag]\n",
    "\n",
    "df = pd.DataFrame(images, columns = [\"Images\"])\n",
    "df.size"
   ]
  },
  {
   "cell_type": "markdown",
   "metadata": {},
   "source": [
    "#### Retrieve an arbitary Wikipedia page of \"Python\" and create a list of links on that page."
   ]
  },
  {
   "cell_type": "code",
   "execution_count": 27,
   "metadata": {},
   "outputs": [],
   "source": [
    "# This is the url you will scrape in this exercise\n",
    "url ='https://en.wikipedia.org/wiki/Python' "
   ]
  },
  {
   "cell_type": "code",
   "execution_count": 32,
   "metadata": {},
   "outputs": [
    {
     "data": {
      "text/plain": [
       "[<link href=\"/w/load.php?lang=en&amp;modules=ext.uls.interlanguage%7Cext.visualEditor.desktopArticleTarget.noscript%7Cext.wikimediaBadges%7Cmediawiki.toc.styles%7Cskins.vector.styles.legacy%7Cwikibase.client.init&amp;only=styles&amp;skin=vector\" rel=\"stylesheet\"/>,\n",
       " <link href=\"/w/load.php?lang=en&amp;modules=site.styles&amp;only=styles&amp;skin=vector\" rel=\"stylesheet\"/>,\n",
       " <link href=\"/w/index.php?title=Python&amp;action=edit\" rel=\"alternate\" title=\"Edit this page\" type=\"application/x-wiki\"/>,\n",
       " <link href=\"/w/index.php?title=Python&amp;action=edit\" rel=\"edit\" title=\"Edit this page\"/>,\n",
       " <link href=\"/static/apple-touch/wikipedia.png\" rel=\"apple-touch-icon\"/>,\n",
       " <link href=\"/static/favicon/wikipedia.ico\" rel=\"shortcut icon\"/>,\n",
       " <link href=\"/w/opensearch_desc.php\" rel=\"search\" title=\"Wikipedia (en)\" type=\"application/opensearchdescription+xml\"/>,\n",
       " <link href=\"//en.wikipedia.org/w/api.php?action=rsd\" rel=\"EditURI\" type=\"application/rsd+xml\"/>,\n",
       " <link href=\"//creativecommons.org/licenses/by-sa/3.0/\" rel=\"license\"/>,\n",
       " <link href=\"/w/index.php?title=Special:RecentChanges&amp;feed=atom\" rel=\"alternate\" title=\"Wikipedia Atom feed\" type=\"application/atom+xml\"/>,\n",
       " <link href=\"https://en.wikipedia.org/wiki/Python\" rel=\"canonical\"/>,\n",
       " <link href=\"//login.wikimedia.org\" rel=\"dns-prefetch\"/>,\n",
       " <link href=\"//meta.wikimedia.org\" rel=\"dns-prefetch\"/>]"
      ]
     },
     "execution_count": 32,
     "metadata": {},
     "output_type": "execute_result"
    }
   ],
   "source": [
    "# your code here\n",
    "req = requests.get(url).content\n",
    "html = BeautifulSoup(req, 'html.parser')\n",
    "getLinks = list(html.find_all(\"link\"))\n",
    "\n",
    "getLinks"
   ]
  },
  {
   "cell_type": "markdown",
   "metadata": {},
   "source": [
    "#### Find the number of titles that have changed in the United States Code since its last release point."
   ]
  },
  {
   "cell_type": "code",
   "execution_count": 34,
   "metadata": {},
   "outputs": [],
   "source": [
    "# This is the url you will scrape in this exercise\n",
    "url = 'http://uscode.house.gov/download/download.shtml'"
   ]
  },
  {
   "cell_type": "code",
   "execution_count": 39,
   "metadata": {},
   "outputs": [
    {
     "data": {
      "text/html": [
       "<div>\n",
       "<style scoped>\n",
       "    .dataframe tbody tr th:only-of-type {\n",
       "        vertical-align: middle;\n",
       "    }\n",
       "\n",
       "    .dataframe tbody tr th {\n",
       "        vertical-align: top;\n",
       "    }\n",
       "\n",
       "    .dataframe thead th {\n",
       "        text-align: right;\n",
       "    }\n",
       "</style>\n",
       "<table border=\"1\" class=\"dataframe\">\n",
       "  <thead>\n",
       "    <tr style=\"text-align: right;\">\n",
       "      <th></th>\n",
       "      <th>Individual Titles</th>\n",
       "    </tr>\n",
       "  </thead>\n",
       "  <tbody>\n",
       "    <tr>\n",
       "      <th>0</th>\n",
       "      <td>Title 1 - General Provisions ٭</td>\n",
       "    </tr>\n",
       "    <tr>\n",
       "      <th>1</th>\n",
       "      <td>Title 2 - The Congress</td>\n",
       "    </tr>\n",
       "    <tr>\n",
       "      <th>2</th>\n",
       "      <td>Title 5 - Government Organization and Employees ٭</td>\n",
       "    </tr>\n",
       "    <tr>\n",
       "      <th>3</th>\n",
       "      <td>Title 6 - Domestic Security</td>\n",
       "    </tr>\n",
       "    <tr>\n",
       "      <th>4</th>\n",
       "      <td>Title 10 - Armed Forces ٭</td>\n",
       "    </tr>\n",
       "  </tbody>\n",
       "</table>\n",
       "</div>"
      ],
      "text/plain": [
       "                                   Individual Titles\n",
       "0                     Title 1 - General Provisions ٭\n",
       "1                             Title 2 - The Congress\n",
       "2  Title 5 - Government Organization and Employees ٭\n",
       "3                        Title 6 - Domestic Security\n",
       "4                          Title 10 - Armed Forces ٭"
      ]
     },
     "execution_count": 39,
     "metadata": {},
     "output_type": "execute_result"
    }
   ],
   "source": [
    "# your code here\n",
    "req = requests.get(url).content\n",
    "html = BeautifulSoup(req, 'html.parser')\n",
    "titles = html.find_all(\"div\", class_ = \"usctitlechanged\")\n",
    "\n",
    "allTitles = [i.getText().strip() for i in titles]\n",
    "\n",
    "df = pd.DataFrame(allTitles, columns = [\"Individual Titles\"])\n",
    "df.head()"
   ]
  },
  {
   "cell_type": "markdown",
   "metadata": {},
   "source": [
    "#### Find a Python list with the top ten FBI's Most Wanted names."
   ]
  },
  {
   "cell_type": "code",
   "execution_count": 41,
   "metadata": {},
   "outputs": [],
   "source": [
    "# This is the url you will scrape in this exercise\n",
    "url = 'https://www.fbi.gov/wanted/topten'"
   ]
  },
  {
   "cell_type": "code",
   "execution_count": 42,
   "metadata": {},
   "outputs": [
    {
     "data": {
      "text/html": [
       "<div>\n",
       "<style scoped>\n",
       "    .dataframe tbody tr th:only-of-type {\n",
       "        vertical-align: middle;\n",
       "    }\n",
       "\n",
       "    .dataframe tbody tr th {\n",
       "        vertical-align: top;\n",
       "    }\n",
       "\n",
       "    .dataframe thead th {\n",
       "        text-align: right;\n",
       "    }\n",
       "</style>\n",
       "<table border=\"1\" class=\"dataframe\">\n",
       "  <thead>\n",
       "    <tr style=\"text-align: right;\">\n",
       "      <th></th>\n",
       "      <th>Criminal</th>\n",
       "    </tr>\n",
       "  </thead>\n",
       "  <tbody>\n",
       "    <tr>\n",
       "      <th>0</th>\n",
       "      <td>JASON DEREK BROWN</td>\n",
       "    </tr>\n",
       "    <tr>\n",
       "      <th>1</th>\n",
       "      <td>YASER ABDEL SAID</td>\n",
       "    </tr>\n",
       "    <tr>\n",
       "      <th>2</th>\n",
       "      <td>ALEXIS FLORES</td>\n",
       "    </tr>\n",
       "    <tr>\n",
       "      <th>3</th>\n",
       "      <td>EUGENE PALMER</td>\n",
       "    </tr>\n",
       "    <tr>\n",
       "      <th>4</th>\n",
       "      <td>SANTIAGO VILLALBA MEDEROS</td>\n",
       "    </tr>\n",
       "    <tr>\n",
       "      <th>5</th>\n",
       "      <td>RAFAEL CARO-QUINTERO</td>\n",
       "    </tr>\n",
       "    <tr>\n",
       "      <th>6</th>\n",
       "      <td>ROBERT WILLIAM FISHER</td>\n",
       "    </tr>\n",
       "    <tr>\n",
       "      <th>7</th>\n",
       "      <td>BHADRESHKUMAR CHETANBHAI PATEL</td>\n",
       "    </tr>\n",
       "    <tr>\n",
       "      <th>8</th>\n",
       "      <td>ALEJANDRO ROSALES CASTILLO</td>\n",
       "    </tr>\n",
       "    <tr>\n",
       "      <th>9</th>\n",
       "      <td>ARNOLDO JIMENEZ</td>\n",
       "    </tr>\n",
       "  </tbody>\n",
       "</table>\n",
       "</div>"
      ],
      "text/plain": [
       "                         Criminal\n",
       "0               JASON DEREK BROWN\n",
       "1                YASER ABDEL SAID\n",
       "2                   ALEXIS FLORES\n",
       "3                   EUGENE PALMER\n",
       "4       SANTIAGO VILLALBA MEDEROS\n",
       "5            RAFAEL CARO-QUINTERO\n",
       "6           ROBERT WILLIAM FISHER\n",
       "7  BHADRESHKUMAR CHETANBHAI PATEL\n",
       "8      ALEJANDRO ROSALES CASTILLO\n",
       "9                 ARNOLDO JIMENEZ"
      ]
     },
     "execution_count": 42,
     "metadata": {},
     "output_type": "execute_result"
    }
   ],
   "source": [
    "# your code here\n",
    "req = requests.get(url).content\n",
    "html = BeautifulSoup(req, 'html.parser')\n",
    "\n",
    "wantedFBI = html.find_all(\"h3\", class_ = \"title\")\n",
    "listFBI = [i.getText().strip() for i in wantedFBI]\n",
    "\n",
    "df = pd.DataFrame(listFBI, columns= [\"Criminal\"])\n",
    "df"
   ]
  },
  {
   "cell_type": "markdown",
   "metadata": {},
   "source": [
    "####  Display the 20 latest earthquakes info (date, time, latitude, longitude and region name) by the EMSC as a pandas dataframe."
   ]
  },
  {
   "cell_type": "code",
   "execution_count": 43,
   "metadata": {},
   "outputs": [],
   "source": [
    "# This is the url you will scrape in this exercise\n",
    "url = 'https://www.emsc-csem.org/Earthquake/'"
   ]
  },
  {
   "cell_type": "code",
   "execution_count": 53,
   "metadata": {},
   "outputs": [
    {
     "data": {
      "text/html": [
       "<div>\n",
       "<style scoped>\n",
       "    .dataframe tbody tr th:only-of-type {\n",
       "        vertical-align: middle;\n",
       "    }\n",
       "\n",
       "    .dataframe tbody tr th {\n",
       "        vertical-align: top;\n",
       "    }\n",
       "\n",
       "    .dataframe thead th {\n",
       "        text-align: right;\n",
       "    }\n",
       "</style>\n",
       "<table border=\"1\" class=\"dataframe\">\n",
       "  <thead>\n",
       "    <tr style=\"text-align: right;\">\n",
       "      <th></th>\n",
       "      <th>0</th>\n",
       "      <th>1</th>\n",
       "      <th>2</th>\n",
       "      <th>3</th>\n",
       "      <th>4</th>\n",
       "      <th>5</th>\n",
       "      <th>6</th>\n",
       "      <th>7</th>\n",
       "      <th>8</th>\n",
       "      <th>9</th>\n",
       "      <th>10</th>\n",
       "      <th>11</th>\n",
       "      <th>12</th>\n",
       "      <th>13</th>\n",
       "      <th>14</th>\n",
       "    </tr>\n",
       "  </thead>\n",
       "  <tbody>\n",
       "    <tr>\n",
       "      <th>0</th>\n",
       "      <td>12IVearthquake2020-04-21</td>\n",
       "      <td>01:07:07.806min</td>\n",
       "      <td>ago40.74</td>\n",
       "      <td>N</td>\n",
       "      <td>112.06</td>\n",
       "      <td>W</td>\n",
       "      <td>4Ml2.8</td>\n",
       "      <td>WASATCH</td>\n",
       "      <td>FRONT</td>\n",
       "      <td>URBAN</td>\n",
       "      <td>AREA,</td>\n",
       "      <td>UTAH2020-04-21</td>\n",
       "      <td>01:10</td>\n",
       "      <td>None</td>\n",
       "      <td>None</td>\n",
       "    </tr>\n",
       "    <tr>\n",
       "      <th>1</th>\n",
       "      <td>earthquake2020-04-21</td>\n",
       "      <td>01:05:52.008min</td>\n",
       "      <td>ago39.30</td>\n",
       "      <td>N</td>\n",
       "      <td>123.34</td>\n",
       "      <td>W</td>\n",
       "      <td>5Md2.1</td>\n",
       "      <td>NORTHERN</td>\n",
       "      <td>CALIFORNIA2020-04-21</td>\n",
       "      <td>01:07</td>\n",
       "      <td>None</td>\n",
       "      <td>None</td>\n",
       "      <td>None</td>\n",
       "      <td>None</td>\n",
       "      <td>None</td>\n",
       "    </tr>\n",
       "    <tr>\n",
       "      <th>2</th>\n",
       "      <td>earthquake2020-04-21</td>\n",
       "      <td>00:56:44.017min</td>\n",
       "      <td>ago9.90</td>\n",
       "      <td>S</td>\n",
       "      <td>120.01</td>\n",
       "      <td>E</td>\n",
       "      <td>32</td>\n",
       "      <td>M2.9</td>\n",
       "      <td>SUMBA</td>\n",
       "      <td>REGION,</td>\n",
       "      <td>INDONESIA2020-04-21</td>\n",
       "      <td>01:10</td>\n",
       "      <td>None</td>\n",
       "      <td>None</td>\n",
       "      <td>None</td>\n",
       "    </tr>\n",
       "    <tr>\n",
       "      <th>3</th>\n",
       "      <td>19IIIearthquake2020-04-21</td>\n",
       "      <td>00:46:08.127min</td>\n",
       "      <td>ago40.76</td>\n",
       "      <td>N</td>\n",
       "      <td>111.99</td>\n",
       "      <td>W</td>\n",
       "      <td>6Ml2.4</td>\n",
       "      <td>WASATCH</td>\n",
       "      <td>FRONT</td>\n",
       "      <td>URBAN</td>\n",
       "      <td>AREA,</td>\n",
       "      <td>UTAH2020-04-21</td>\n",
       "      <td>01:07</td>\n",
       "      <td>None</td>\n",
       "      <td>None</td>\n",
       "    </tr>\n",
       "    <tr>\n",
       "      <th>4</th>\n",
       "      <td>earthquake2020-04-21</td>\n",
       "      <td>00:39:33.034min</td>\n",
       "      <td>ago2.77</td>\n",
       "      <td>S</td>\n",
       "      <td>119.22</td>\n",
       "      <td>E</td>\n",
       "      <td>90</td>\n",
       "      <td>M2.8</td>\n",
       "      <td>SULAWESI,</td>\n",
       "      <td>INDONESIA2020-04-21</td>\n",
       "      <td>01:10</td>\n",
       "      <td>None</td>\n",
       "      <td>None</td>\n",
       "      <td>None</td>\n",
       "      <td>None</td>\n",
       "    </tr>\n",
       "  </tbody>\n",
       "</table>\n",
       "</div>"
      ],
      "text/plain": [
       "                           0                1         2  3       4  5       6  \\\n",
       "0   12IVearthquake2020-04-21  01:07:07.806min  ago40.74  N  112.06  W  4Ml2.8   \n",
       "1       earthquake2020-04-21  01:05:52.008min  ago39.30  N  123.34  W  5Md2.1   \n",
       "2       earthquake2020-04-21  00:56:44.017min   ago9.90  S  120.01  E      32   \n",
       "3  19IIIearthquake2020-04-21  00:46:08.127min  ago40.76  N  111.99  W  6Ml2.4   \n",
       "4       earthquake2020-04-21  00:39:33.034min   ago2.77  S  119.22  E      90   \n",
       "\n",
       "          7                     8                    9                   10  \\\n",
       "0   WASATCH                 FRONT                URBAN                AREA,   \n",
       "1  NORTHERN  CALIFORNIA2020-04-21                01:07                 None   \n",
       "2      M2.9                 SUMBA              REGION,  INDONESIA2020-04-21   \n",
       "3   WASATCH                 FRONT                URBAN                AREA,   \n",
       "4      M2.8             SULAWESI,  INDONESIA2020-04-21                01:10   \n",
       "\n",
       "               11     12    13    14  \n",
       "0  UTAH2020-04-21  01:10  None  None  \n",
       "1            None   None  None  None  \n",
       "2           01:10   None  None  None  \n",
       "3  UTAH2020-04-21  01:07  None  None  \n",
       "4            None   None  None  None  "
      ]
     },
     "execution_count": 53,
     "metadata": {},
     "output_type": "execute_result"
    }
   ],
   "source": [
    "# your code here\n",
    "req = requests.get(url).content\n",
    "html = BeautifulSoup(req, 'html.parser')\n",
    "\n",
    "findTable = html.find_all(\"tr\")\n",
    "tableContent = [i.getText().split() for i in findTable]\n",
    "\n",
    "cleanContent = eq_data[14:-3]\n",
    "df = pd.DataFrame(cleanContent)\n",
    "df.head()"
   ]
  },
  {
   "cell_type": "markdown",
   "metadata": {},
   "source": [
    "#### Count the number of tweets by a given Twitter account.\n",
    "Ask the user for the handle (@handle) of a twitter account. You will need to include a ***try/except block*** for account names not found. \n",
    "<br>***Hint:*** the program should count the number of tweets for any provided account."
   ]
  },
  {
   "cell_type": "code",
   "execution_count": 55,
   "metadata": {},
   "outputs": [
    {
     "name": "stdout",
     "output_type": "stream",
     "text": [
      "Which account do you want to handle?: aitorquinza\n"
     ]
    }
   ],
   "source": [
    "# This is the url you will scrape in this exercise \n",
    "# You will need to add the account credentials to this url\n",
    "url = 'https://twitter.com/' + input('Which account do you want to handle?: ')"
   ]
  },
  {
   "cell_type": "code",
   "execution_count": 72,
   "metadata": {},
   "outputs": [
    {
     "data": {
      "text/plain": [
       "Tweets    20\n",
       "dtype: int64"
      ]
     },
     "execution_count": 72,
     "metadata": {},
     "output_type": "execute_result"
    }
   ],
   "source": [
    "# your code here\n",
    "req = requests.get(url).content\n",
    "html = BeautifulSoup(req, 'html.parser')\n",
    "\n",
    "tweets = html.find_all(\"div\", class_ = \"js-tweet-text-container\")\n",
    "allTweets = [i.getText().strip() for i in tweets]\n",
    "df = pd.DataFrame(allTweets, columns = ['Tweets'])\n",
    "df.count()"
   ]
  },
  {
   "cell_type": "markdown",
   "metadata": {},
   "source": [
    "#### Number of followers of a given twitter account\n",
    "Ask the user for the handle (@handle) of a twitter account. You will need to include a ***try/except block*** for account names not found. \n",
    "<br>***Hint:*** the program should count the followers for any provided account."
   ]
  },
  {
   "cell_type": "code",
   "execution_count": 81,
   "metadata": {},
   "outputs": [
    {
     "name": "stdout",
     "output_type": "stream",
     "text": [
      "Which account do you want to handle?: aitorquinza\n"
     ]
    }
   ],
   "source": [
    "# This is the url you will scrape in this exercise \n",
    "# You will need to add the account credentials to this url\n",
    "url = 'https://twitter.com/'\n",
    "user = input('Which account do you want to handle?: ')"
   ]
  },
  {
   "cell_type": "code",
   "execution_count": 96,
   "metadata": {},
   "outputs": [
    {
     "data": {
      "text/plain": [
       "['153']"
      ]
     },
     "execution_count": 96,
     "metadata": {},
     "output_type": "execute_result"
    }
   ],
   "source": [
    "# your code here\n",
    "req = requests.get(url + user).content\n",
    "html = BeautifulSoup(req, 'html.parser')\n",
    "\n",
    "followers = html.find_all(\"a\", href = '/' + user + '/followers')\n",
    "countFollowers = [i.getText().split()[2] for i in followers]\n",
    "countFollowers"
   ]
  },
  {
   "cell_type": "markdown",
   "metadata": {},
   "source": [
    "#### List all language names and number of related articles in the order they appear in wikipedia.org."
   ]
  },
  {
   "cell_type": "code",
   "execution_count": 97,
   "metadata": {},
   "outputs": [],
   "source": [
    "# This is the url you will scrape in this exercise\n",
    "url = 'https://www.wikipedia.org/'"
   ]
  },
  {
   "cell_type": "code",
   "execution_count": 105,
   "metadata": {},
   "outputs": [
    {
     "data": {
      "text/plain": [
       "[['English', '6', '061', '000+', 'articles'],\n",
       " ['Español', '1', '592', '000+', 'artículos'],\n",
       " ['日本語', '1', '201', '000+', '記事'],\n",
       " ['Deutsch', '2', '423', '000+', 'Artikel'],\n",
       " ['Русский', '1', '616', '000+', 'статей'],\n",
       " ['Français', '2', '204', '000+', 'articles'],\n",
       " ['Italiano', '1', '600', '000+', 'voci'],\n",
       " ['中文', '1', '112', '000+', '條目'],\n",
       " ['Português', '1', '029', '000+', 'artigos'],\n",
       " ['Polski', '1', '405', '000+', 'haseł']]"
      ]
     },
     "execution_count": 105,
     "metadata": {},
     "output_type": "execute_result"
    }
   ],
   "source": [
    "# your code here\n",
    "req = requests.get(url).content\n",
    "html = BeautifulSoup(req, 'html.parser')\n",
    "\n",
    "languages = html.find_all(\"div\", class_ = 'central-featured-lang')\n",
    "mainLanguages = [i.getText().split() for i in languages]\n",
    "mainLanguages"
   ]
  },
  {
   "cell_type": "markdown",
   "metadata": {},
   "source": [
    "#### A list with the different kind of datasets available in data.gov.uk."
   ]
  },
  {
   "cell_type": "code",
   "execution_count": 107,
   "metadata": {},
   "outputs": [],
   "source": [
    "# This is the url you will scrape in this exercise\n",
    "url = 'https://data.gov.uk/'"
   ]
  },
  {
   "cell_type": "code",
   "execution_count": 110,
   "metadata": {},
   "outputs": [
    {
     "data": {
      "text/plain": [
       "['Business and economy',\n",
       " 'Crime and justice',\n",
       " 'Defence',\n",
       " 'Education',\n",
       " 'Environment',\n",
       " 'Government',\n",
       " 'Government spending',\n",
       " 'Health',\n",
       " 'Mapping',\n",
       " 'Society',\n",
       " 'Towns and cities',\n",
       " 'Transport']"
      ]
     },
     "execution_count": 110,
     "metadata": {},
     "output_type": "execute_result"
    }
   ],
   "source": [
    "# your code here\n",
    "req = requests.get(url).content\n",
    "html = BeautifulSoup(req, 'html.parser')\n",
    "\n",
    "datasets = html.find_all(\"h2\")\n",
    "\n",
    "dataTopics = [i.getText() for i in datasets]\n",
    "\n",
    "dataTopics"
   ]
  },
  {
   "cell_type": "markdown",
   "metadata": {},
   "source": [
    "#### Display the top 10 languages by number of native speakers stored in a pandas dataframe."
   ]
  },
  {
   "cell_type": "code",
   "execution_count": 111,
   "metadata": {},
   "outputs": [],
   "source": [
    "# This is the url you will scrape in this exercise\n",
    "url = 'https://en.wikipedia.org/wiki/List_of_languages_by_number_of_native_speakers'"
   ]
  },
  {
   "cell_type": "code",
   "execution_count": 116,
   "metadata": {},
   "outputs": [
    {
     "ename": "AttributeError",
     "evalue": "ResultSet object has no attribute 'find_all'. You're probably treating a list of elements like a single element. Did you call find_all() when you meant to call find()?",
     "output_type": "error",
     "traceback": [
      "\u001b[0;31m---------------------------------------------------------------------------\u001b[0m",
      "\u001b[0;31mAttributeError\u001b[0m                            Traceback (most recent call last)",
      "\u001b[0;32m<ipython-input-116-db177ff045c2>\u001b[0m in \u001b[0;36m<module>\u001b[0;34m\u001b[0m\n\u001b[1;32m      7\u001b[0m \u001b[0;34m\u001b[0m\u001b[0m\n\u001b[1;32m      8\u001b[0m \u001b[0mtableRows\u001b[0m \u001b[0;34m=\u001b[0m \u001b[0mmainTable\u001b[0m\u001b[0;34m.\u001b[0m\u001b[0mfind_all\u001b[0m\u001b[0;34m(\u001b[0m\u001b[0;34m\"tr\"\u001b[0m\u001b[0;34m)\u001b[0m\u001b[0;34m\u001b[0m\u001b[0;34m\u001b[0m\u001b[0m\n\u001b[0;32m----> 9\u001b[0;31m \u001b[0mtableHeader\u001b[0m \u001b[0;34m=\u001b[0m \u001b[0mtableRows\u001b[0m\u001b[0;34m.\u001b[0m\u001b[0mfind_all\u001b[0m\u001b[0;34m(\u001b[0m\u001b[0;34m\"th\"\u001b[0m\u001b[0;34m)\u001b[0m\u001b[0;34m\u001b[0m\u001b[0;34m\u001b[0m\u001b[0m\n\u001b[0m\u001b[1;32m     10\u001b[0m \u001b[0;34m\u001b[0m\u001b[0m\n\u001b[1;32m     11\u001b[0m \u001b[0mheader\u001b[0m \u001b[0;34m=\u001b[0m \u001b[0;34m[\u001b[0m\u001b[0mi\u001b[0m\u001b[0;34m.\u001b[0m\u001b[0mgetText\u001b[0m\u001b[0;34m(\u001b[0m\u001b[0;34m)\u001b[0m\u001b[0;34m.\u001b[0m\u001b[0mstrip\u001b[0m\u001b[0;34m(\u001b[0m\u001b[0;34m)\u001b[0m \u001b[0;32mfor\u001b[0m \u001b[0mi\u001b[0m \u001b[0;32min\u001b[0m \u001b[0mtableHeader\u001b[0m\u001b[0;34m]\u001b[0m\u001b[0;34m\u001b[0m\u001b[0;34m\u001b[0m\u001b[0m\n",
      "\u001b[0;32m/usr/local/lib/python3.7/site-packages/bs4/element.py\u001b[0m in \u001b[0;36m__getattr__\u001b[0;34m(self, key)\u001b[0m\n\u001b[1;32m   2126\u001b[0m         \u001b[0;34m\"\"\"Raise a helpful exception to explain a common code fix.\"\"\"\u001b[0m\u001b[0;34m\u001b[0m\u001b[0;34m\u001b[0m\u001b[0m\n\u001b[1;32m   2127\u001b[0m         raise AttributeError(\n\u001b[0;32m-> 2128\u001b[0;31m             \u001b[0;34m\"ResultSet object has no attribute '%s'. You're probably treating a list of elements like a single element. Did you call find_all() when you meant to call find()?\"\u001b[0m \u001b[0;34m%\u001b[0m \u001b[0mkey\u001b[0m\u001b[0;34m\u001b[0m\u001b[0;34m\u001b[0m\u001b[0m\n\u001b[0m\u001b[1;32m   2129\u001b[0m         )\n",
      "\u001b[0;31mAttributeError\u001b[0m: ResultSet object has no attribute 'find_all'. You're probably treating a list of elements like a single element. Did you call find_all() when you meant to call find()?"
     ]
    }
   ],
   "source": [
    "# your code here\n",
    "req = requests.get(url).content\n",
    "html = BeautifulSoup(req, 'html.parser')\n",
    "\n",
    "languages = html.find_all(\"table\")\n",
    "mainTable = languages[0]\n",
    "\n",
    "tableRows = mainTable.find_all(\"tr\")\n",
    "tableHeader = tableRows.find_all(\"th\")\n",
    "\n",
    "header = [i.getText().strip() for i in tableHeader]\n",
    "\n",
    "header"
   ]
  },
  {
   "cell_type": "markdown",
   "metadata": {},
   "source": [
    "## Bonus\n",
    "#### Scrape a certain number of tweets of a given Twitter account."
   ]
  },
  {
   "cell_type": "code",
   "execution_count": null,
   "metadata": {},
   "outputs": [],
   "source": [
    "# This is the url you will scrape in this exercise \n",
    "# You will need to add the account credentials to this url\n",
    "url = 'https://twitter.com/'"
   ]
  },
  {
   "cell_type": "code",
   "execution_count": null,
   "metadata": {},
   "outputs": [],
   "source": [
    "# your code here"
   ]
  },
  {
   "cell_type": "markdown",
   "metadata": {},
   "source": [
    "#### Display IMDB's top 250 data (movie name, initial release, director name and stars) as a pandas dataframe."
   ]
  },
  {
   "cell_type": "code",
   "execution_count": null,
   "metadata": {},
   "outputs": [],
   "source": [
    "# This is the url you will scrape in this exercise \n",
    "url = 'https://www.imdb.com/chart/top'"
   ]
  },
  {
   "cell_type": "code",
   "execution_count": null,
   "metadata": {},
   "outputs": [],
   "source": [
    "# your code here"
   ]
  },
  {
   "cell_type": "markdown",
   "metadata": {},
   "source": [
    "#### Display the movie name, year and a brief summary of the top 10 random movies (IMDB) as a pandas dataframe."
   ]
  },
  {
   "cell_type": "code",
   "execution_count": null,
   "metadata": {},
   "outputs": [],
   "source": [
    "#This is the url you will scrape in this exercise\n",
    "url = 'http://www.imdb.com/chart/top'"
   ]
  },
  {
   "cell_type": "code",
   "execution_count": null,
   "metadata": {},
   "outputs": [],
   "source": [
    "# your code here"
   ]
  },
  {
   "cell_type": "markdown",
   "metadata": {},
   "source": [
    "#### Find the live weather report (temperature, wind speed, description and weather) of a given city."
   ]
  },
  {
   "cell_type": "code",
   "execution_count": null,
   "metadata": {},
   "outputs": [],
   "source": [
    "#https://openweathermap.org/current\n",
    "city = input('Enter the city: ')\n",
    "url = 'http://api.openweathermap.org/data/2.5/weather?'+'q='+city+'&APPID=b35975e18dc93725acb092f7272cc6b8&units=metric'"
   ]
  },
  {
   "cell_type": "code",
   "execution_count": null,
   "metadata": {},
   "outputs": [],
   "source": [
    "# your code here"
   ]
  },
  {
   "cell_type": "markdown",
   "metadata": {},
   "source": [
    "#### Find the book name, price and stock availability as a pandas dataframe."
   ]
  },
  {
   "cell_type": "code",
   "execution_count": null,
   "metadata": {},
   "outputs": [],
   "source": [
    "# This is the url you will scrape in this exercise. \n",
    "# It is a fictional bookstore created to be scraped. \n",
    "url = 'http://books.toscrape.com/'"
   ]
  },
  {
   "cell_type": "code",
   "execution_count": null,
   "metadata": {},
   "outputs": [],
   "source": [
    "# your code here"
   ]
  }
 ],
 "metadata": {
  "kernelspec": {
   "display_name": "Python 3",
   "language": "python",
   "name": "python3"
  },
  "language_info": {
   "codemirror_mode": {
    "name": "ipython",
    "version": 3
   },
   "file_extension": ".py",
   "mimetype": "text/x-python",
   "name": "python",
   "nbconvert_exporter": "python",
   "pygments_lexer": "ipython3",
   "version": "3.7.6"
  }
 },
 "nbformat": 4,
 "nbformat_minor": 2
}
